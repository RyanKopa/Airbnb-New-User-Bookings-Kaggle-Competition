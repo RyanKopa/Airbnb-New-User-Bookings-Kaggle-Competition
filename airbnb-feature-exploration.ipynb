{
 "cells": [
  {
   "cell_type": "markdown",
   "metadata": {},
   "source": [
    "# Processing & Feature Engineering"
   ]
  },
  {
   "cell_type": "code",
   "execution_count": 1,
   "metadata": {
    "collapsed": false
   },
   "outputs": [
    {
     "name": "stderr",
     "output_type": "stream",
     "text": [
      "//anaconda/lib/python3.5/site-packages/sklearn/cross_validation.py:44: DeprecationWarning: This module was deprecated in version 0.18 in favor of the model_selection module into which all the refactored classes and functions are moved. Also note that the interface of the new CV iterators are different from that of this module. This module will be removed in 0.20.\n",
      "  \"This module will be removed in 0.20.\", DeprecationWarning)\n"
     ]
    }
   ],
   "source": [
    "import numpy as np\n",
    "import pandas as pd\n",
    "from sklearn.preprocessing import LabelEncoder\n",
    "# from xgboost.sklearn import XGBClassifier\n",
    "import xgboost as xgb\n",
    "from sklearn.cross_validation import train_test_split\n",
    "import matplotlib.pyplot as plt\n",
    "\n",
    "import datetime\n",
    "# import time\n",
    "# import operator\n",
    "# from __future__ import division\n",
    "\n",
    "np.random.seed(0)"
   ]
  },
  {
   "cell_type": "markdown",
   "metadata": {},
   "source": [
    "## Processing"
   ]
  },
  {
   "cell_type": "code",
   "execution_count": 2,
   "metadata": {
    "collapsed": true
   },
   "outputs": [],
   "source": [
    "df_train = pd.read_csv('train_users_2.csv')\n",
    "df_test = pd.read_csv('test_users.csv')\n",
    "labels = df_train['country_destination'].values\n",
    "df_train = df_train.drop(['country_destination'], axis=1)\n",
    "id_test = df_test['id']\n",
    "piv_train = df_train.shape[0]"
   ]
  },
  {
   "cell_type": "code",
   "execution_count": 3,
   "metadata": {
    "collapsed": true
   },
   "outputs": [],
   "source": [
    "#Creating a DataFrame with train+test data\n",
    "df_all = pd.concat((df_train, df_test), axis=0, ignore_index=True)\n",
    "#Removing id and date_first_booking\n",
    "df_all = df_all.drop(['id', 'date_first_booking'], axis=1)\n",
    "#Filling nan\n",
    "df_all = df_all.fillna(-1)"
   ]
  },
  {
   "cell_type": "markdown",
   "metadata": {},
   "source": [
    "## Date Engineering"
   ]
  },
  {
   "cell_type": "code",
   "execution_count": 4,
   "metadata": {
    "collapsed": true
   },
   "outputs": [],
   "source": [
    "#date_account_created\n",
    "dac = np.vstack(df_all.date_account_created.astype(str).apply(\n",
    "    lambda x: list(map(int, x.split('-')))).values)\n",
    "df_all['dac_year'] = dac[:,0]\n",
    "df_all['dac_month'] = dac[:,1]\n",
    "df_all['dac_day'] = dac[:,2]\n",
    "df_all = df_all.drop(['date_account_created'], axis=1)\n",
    "\n",
    "#timestamp_first_active\n",
    "tfa = np.vstack(df_all.timestamp_first_active.astype(str).apply(\n",
    "    lambda x: list(map(int, [x[:4],\n",
    "    x[4:6],x[6:8],x[8:10],\n",
    "    x[10:12],x[12:14]]))).values)\n",
    "df_all['tfa_year'] = tfa[:,0]\n",
    "df_all['tfa_month'] = tfa[:,1]\n",
    "df_all['tfa_day'] = tfa[:,2]\n",
    "df_all['tfa_hour'] = tfa[:,3]\n",
    "# df_all['tfa_min'] = tfa[:,4]\n",
    "# df_all['tfa_sec'] = tfa[:,5]\n",
    "df_all = df_all.drop(['timestamp_first_active'], axis=1)"
   ]
  },
  {
   "cell_type": "markdown",
   "metadata": {},
   "source": [
    "## Date functions for additional features"
   ]
  },
  {
   "cell_type": "code",
   "execution_count": 5,
   "metadata": {
    "collapsed": false
   },
   "outputs": [],
   "source": [
    "def numDaysDiff(dates):\n",
    "    # Calculates the number of days between the date the\n",
    "    # account was created and the time of first activity\n",
    "    firstDate = datetime.date(dates[0], dates[1], dates[2])#year, month, day\n",
    "    secondDate = datetime.date(dates[3], dates[4], dates[5])\n",
    "    timeDiff = firstDate - secondDate\n",
    "    timeSections = str(timeDiff).split()[0]\n",
    "    if timeSections == '0:00:00':\n",
    "        return 0\n",
    "    else:\n",
    "        return abs(int(str(timeSections).split()[0]))\n",
    "\n",
    "def daysTillChristmas(dates):\n",
    "    # number of days from time first active till christmas\n",
    "    userDate = datetime.date(dates[0], dates[1], dates[2])\n",
    "    xmasDate = datetime.date(dates[0], 12, 25)\n",
    "    timeDiff = userDate - xmasDate\n",
    "    timeSections = str(timeDiff).split()[0]\n",
    "    if timeSections == '0:00:00':\n",
    "        return 0\n",
    "    else:\n",
    "        return abs(int(str(timeSections).split()[0]))\n",
    "\n",
    "def daysTillThanksgiving(dates):\n",
    "    # number of days from time first active, \n",
    "    # estimate since thanksgiving is different every year\n",
    "    userDate = datetime.date(dates[0], dates[1], dates[2])\n",
    "    thanksgivingDate = datetime.date(dates[0], 11, 23)\n",
    "    timeDiff = userDate - thanksgivingDate\n",
    "    timeSections = str(timeDiff).split()[0]\n",
    "    if timeSections == '0:00:00':\n",
    "        return 0\n",
    "    else:\n",
    "        return abs(int(str(timeSections).split()[0]))"
   ]
  },
  {
   "cell_type": "code",
   "execution_count": 6,
   "metadata": {
    "collapsed": false
   },
   "outputs": [],
   "source": [
    "cols = ['dac_year','dac_month','dac_day','tfa_year','tfa_month','tfa_day']\n",
    "df_all['days_btw_dac_tfa'] = [numDaysDiff(t[cols]) for i,t in df_all.iterrows()]\n",
    "cols = ['tfa_year','tfa_month','tfa_day']\n",
    "df_all['tfa_thanksgiving'] = [daysTillThanksgiving(x) for i,x in df_all[cols].iterrows()]\n",
    "df_all['tfa_xmas'] = [daysTillChristmas(x) for i,x in df_all[cols].iterrows()]"
   ]
  },
  {
   "cell_type": "markdown",
   "metadata": {},
   "source": [
    "### Age Engineering"
   ]
  },
  {
   "cell_type": "code",
   "execution_count": 10,
   "metadata": {
    "collapsed": false
   },
   "outputs": [],
   "source": [
    "ages = df_all.age.values\n",
    "ages[ages == -1] = 0\n",
    "ages = ages.astype(int)\n",
    "agesCount = np.bincount(ages)\n",
    "ages = np.unique(ages)\n",
    "ageindex = np.nonzero(agesCount)[0]\n",
    "agesplot = np.vstack((ageindex, agesCount[ageindex])).T"
   ]
  },
  {
   "cell_type": "code",
   "execution_count": 11,
   "metadata": {
    "collapsed": false
   },
   "outputs": [
    {
     "data": {
      "image/png": "[encoded data removed]",
      "text/plain": [
       "<matplotlib.figure.Figure at 0x112929518>"
      ]
     },
     "metadata": {},
     "output_type": "display_data"
    }
   ],
   "source": [
    "#agesplot\n",
    "plt.subplot(2, 1, 1)\n",
    "plt.plot(agesplot[:,0], agesplot[:,1])\n",
    "plt.title('Ages vs Count')\n",
    "# plt.xlabel('Age (Years)')\n",
    "plt.ylabel('Count')\n",
    "plt.ylim(0,10000)\n",
    "plt.xlim(0,150)\n",
    "plt.subplot(2, 1, 2)\n",
    "plt.plot(agesplot[:,0], agesplot[:,1])\n",
    "plt.xlabel('Age (Years)')\n",
    "plt.ylabel('Count')\n",
    "plt.ylim(0,2000)\n",
    "plt.xlim(150,2030)\n",
    "plt.show()"
   ]
  },
  {
   "cell_type": "code",
   "execution_count": 12,
   "metadata": {
    "collapsed": true
   },
   "outputs": [],
   "source": [
    "wrongAges = df_all.age[(df_all.age > 151) & (df_all.age < 2001)]\n",
    "df_all.loc[wrongAges, 'age'] = 2015 - df_all.loc[wrongAges, 'age']\n",
    "df_all.loc[(df_all.age > 85) | (df_all.age < 15), 'age'] = -1\n",
    "df_all.age.fillna(-1, inplace = True)\n",
    "bins = [-1, 15, 20, 25, 30, 35, 40, 45, 50, 55, 60, 65, 70, 75, 80, 85]\n",
    "df_all['age_group'] = np.digitize(df_all['age'], bins, right=True)"
   ]
  },
  {
   "cell_type": "code",
   "execution_count": 16,
   "metadata": {
    "collapsed": false
   },
   "outputs": [],
   "source": [
    "av = df_all['age'].values\n",
    "df_all['age'] = np.where(np.logical_or(av<15, av>85), -1, av)\n",
    "df_all.age = df_all.age.astype('int')"
   ]
  },
  {
   "cell_type": "markdown",
   "metadata": {
    "collapsed": true
   },
   "source": [
    "## Sessions Data"
   ]
  },
  {
   "cell_type": "code",
   "execution_count": 19,
   "metadata": {
    "collapsed": true
   },
   "outputs": [],
   "source": [
    "#Load Data\n",
    "sessions = pd.read_csv('sessions.csv')\n",
    "sessions.rename(columns = {'user_id': 'id'}, inplace=True)"
   ]
  },
  {
   "cell_type": "code",
   "execution_count": null,
   "metadata": {
    "collapsed": true
   },
   "outputs": [],
   "source": [
    "action_count = sessions.groupby(['id', 'action'])['secs_elapsed'].agg(len).unstack()\n",
    "action_type_count = sessions.groupby(['id', 'action_type'])['secs_elapsed'].agg(len).unstack()\n",
    "action_detail_count = sessions.groupby(['id', 'action_detail'])['secs_elapsed'].agg(len).unstack()\n",
    "device_type_sum = sessions.groupby(['id', 'device_type'])['secs_elapsed'].agg(sum).unstack()\n",
    "\n",
    "sessions_data = pd.concat([action_count, action_type_count, action_detail_count, device_type_sum],axis=1)\n",
    "sessions_data.columns = sessions_data.columns.map(lambda x: str(x) + '_count')\n",
    "\n",
    "# Most used device\n",
    "sessions_data['most_used_device'] = sessions.groupby('id')['device_type'].max()\n",
    "\n",
    "users = users.join(sessions_data, on='id')"
   ]
  },
  {
   "cell_type": "markdown",
   "metadata": {},
   "source": [
    "# To do list dg:\n",
    "*explore date_account_created, date_first_active, timestamp_first active; drop these features?, change to date type? pd.to_datetime?\n",
    "*date_account_created = pd.to_datetime, date_first_active = pd.to_datetime, date_account_created = pd.DatetimeIndex, date_first_active = pd.DatetimeIndex\n",
    "*keep splitted data (ex. tfa_day, tfa_month...)\n",
    "*encode user_id???\n",
    "    le = LabelEncoder()\n",
    "    sessions['user_id'] = le.fit_transform(sessions['user_id'].astype(str))\n",
    "    sessions_ids = sessions['user_id'].unique()\n",
    "*more statistics for user sessions"
   ]
  },
  {
   "cell_type": "markdown",
   "metadata": {},
   "source": [
    "# To do list for tij:\n",
    "one-hot Encoding categorical features (start wiht day of week and stuff)"
   ]
  },
  {
   "cell_type": "code",
   "execution_count": null,
   "metadata": {
    "collapsed": true
   },
   "outputs": [],
   "source": []
  }
 ],
 "metadata": {
  "anaconda-cloud": {},
  "kernelspec": {
   "display_name": "Python [conda root]",
   "language": "python",
   "name": "conda-root-py"
  },
  "language_info": {
   "codemirror_mode": {
    "name": "ipython",
    "version": 3
   },
   "file_extension": ".py",
   "mimetype": "text/x-python",
   "name": "python",
   "nbconvert_exporter": "python",
   "pygments_lexer": "ipython3",
   "version": "3.5.2"
  }
 },
 "nbformat": 4,
 "nbformat_minor": 2
}
